{
  "nbformat": 4,
  "nbformat_minor": 0,
  "metadata": {
    "colab": {
      "provenance": [],
      "authorship_tag": "ABX9TyOSJ2j2YZE1phfWe8A2L7jj",
      "include_colab_link": true
    },
    "kernelspec": {
      "name": "python3",
      "display_name": "Python 3"
    },
    "language_info": {
      "name": "python"
    }
  },
  "cells": [
    {
      "cell_type": "markdown",
      "metadata": {
        "id": "view-in-github",
        "colab_type": "text"
      },
      "source": [
        "<a href=\"https://colab.research.google.com/github/Jestika-safitri/jestika/blob/main/preprocessing.ipynb\" target=\"_parent\"><img src=\"https://colab.research.google.com/assets/colab-badge.svg\" alt=\"Open In Colab\"/></a>"
      ]
    },
    {
      "cell_type": "code",
      "execution_count": null,
      "metadata": {
        "id": "2G-vPMGjvkWQ"
      },
      "outputs": [],
      "source": [
        "pip install mst_clustering"
      ]
    },
    {
      "cell_type": "code",
      "source": [
        "pip install sastrawi"
      ],
      "metadata": {
        "id": "nXuaV3RYwIAN"
      },
      "execution_count": null,
      "outputs": []
    },
    {
      "cell_type": "code",
      "source": [
        "pip install keras.utils"
      ],
      "metadata": {
        "id": "6UFTHS0O0I_u"
      },
      "execution_count": null,
      "outputs": []
    },
    {
      "cell_type": "code",
      "source": [
        "from keras.utils import pad_sequences"
      ],
      "metadata": {
        "id": "Jl6qrQamwXQ5"
      },
      "execution_count": null,
      "outputs": []
    },
    {
      "cell_type": "code",
      "source": [
        "!pip install matplotlib-venn"
      ],
      "metadata": {
        "id": "aO8vNtll0Yok"
      },
      "execution_count": null,
      "outputs": []
    },
    {
      "cell_type": "code",
      "source": [
        "!apt-get -qq install -y libfluidsynth1"
      ],
      "metadata": {
        "id": "qTPRD341woM4"
      },
      "execution_count": null,
      "outputs": []
    },
    {
      "cell_type": "code",
      "source": [
        "pip install Keras-Preprocessing\n"
      ],
      "metadata": {
        "id": "dcs3PfCYzL4I",
        "colab": {
          "base_uri": "https://localhost:8080/"
        },
        "outputId": "895e1706-3244-4706-9e8c-da1f9f76a529"
      },
      "execution_count": null,
      "outputs": [
        {
          "output_type": "stream",
          "name": "stdout",
          "text": [
            "Looking in indexes: https://pypi.org/simple, https://us-python.pkg.dev/colab-wheels/public/simple/\n",
            "Collecting Keras-Preprocessing\n",
            "  Downloading Keras_Preprocessing-1.1.2-py2.py3-none-any.whl (42 kB)\n",
            "\u001b[2K     \u001b[90m━━━━━━━━━━━━━━━━━━━━━━━━━━━━━━━━━━━━━━━━\u001b[0m \u001b[32m42.6/42.6 kB\u001b[0m \u001b[31m4.7 MB/s\u001b[0m eta \u001b[36m0:00:00\u001b[0m\n",
            "\u001b[?25hRequirement already satisfied: numpy>=1.9.1 in /usr/local/lib/python3.10/dist-packages (from Keras-Preprocessing) (1.22.4)\n",
            "Requirement already satisfied: six>=1.9.0 in /usr/local/lib/python3.10/dist-packages (from Keras-Preprocessing) (1.16.0)\n",
            "Installing collected packages: Keras-Preprocessing\n",
            "Successfully installed Keras-Preprocessing-1.1.2\n"
          ]
        }
      ]
    },
    {
      "cell_type": "code",
      "source": [],
      "metadata": {
        "id": "i6WM22khkCRt"
      },
      "execution_count": null,
      "outputs": []
    },
    {
      "cell_type": "code",
      "source": [
        "import pandas as pd\n",
        "import numpy as np\n",
        "import matplotlib.pyplot as plt\n",
        "import seaborn as sns\n",
        "from textblob import TextBlob\n",
        "import nltk\n",
        "%matplotlib inline\n",
        "sns.set_style(\"whitegrid\")\n",
        "\n",
        "#set warning \n",
        "import warnings\n",
        "warnings.filterwarnings('ignore')\n",
        "\n",
        "\n",
        "pd.pandas.set_option('display.max_columns', None)"
      ],
      "metadata": {
        "id": "eSjEt-68ydsh"
      },
      "execution_count": null,
      "outputs": []
    },
    {
      "cell_type": "code",
      "source": [
        "filename = \"datakotorjestika.csv\"\n",
        "df = pd.read_csvdf = pd.read_csv(\"datakotorjestika.csv\", sep=\";\")\n",
        "df.head()"
      ],
      "metadata": {
        "id": "56h-6O_Yyn6S",
        "colab": {
          "base_uri": "https://localhost:8080/",
          "height": 583
        },
        "outputId": "12537a7f-03da-48a2-ab40-e58072296c03"
      },
      "execution_count": null,
      "outputs": [
        {
          "output_type": "execute_result",
          "data": {
            "text/plain": [
              "            id conversation_id               created_at        date      time  \\\n",
              "0  1,60678E+18     1,60678E+18  2022-12-24 22:35:21 UTC  24/12/2022  22:35:21   \n",
              "1  1,60671E+18     1,60667E+18  2022-12-24 17:48:48 UTC  24/12/2022  17:48:48   \n",
              "2  1,60657E+18     1,60657E+18  2022-12-24 08:50:09 UTC  24/12/2022  08:50:09   \n",
              "3  1,60656E+18     1,60656E+18  2022-12-24 08:08:40 UTC  24/12/2022  08:08:40   \n",
              "4  1,60655E+18     1,60655E+18  2022-12-24 07:16:20 UTC  24/12/2022  07:16:20   \n",
              "\n",
              "   timezone      user_id         username                            name  \\\n",
              "0         0   2601743988       plnuidbali  PLN Unit Induk Distribusi Bali   \n",
              "1         0  1,60144E+18        vvellvvet                          Velvet   \n",
              "2         0  1,47689E+18        kawanpuan                   Kawanpuan.com   \n",
              "3         0  1,49199E+18  koramil_imogiri         Koramil10imogirireports   \n",
              "4         0   1,2933E+18      updatebalii                  UPDATEBALI.com   \n",
              "\n",
              "  place                                              tweet language mentions  \\\n",
              "0   NaN  Kerap termarjinalisasi, perempuan – perempuan ...       in       []   \n",
              "1   NaN  @18fesss Tindakan semacam ini dapat dilaporkan...       in       []   \n",
              "2   NaN  Inilah Contoh Kekerasan Dalam Rumah Tangga  ht...       in       []   \n",
              "3   NaN  Sertu Iswanto babinsa kalurahan Srihatjo bersa...       in       []   \n",
              "4   NaN  Kerap termarjinalisasi, perempuan – perempuan ...       in       []   \n",
              "\n",
              "                                                urls  \\\n",
              "0                                                 []   \n",
              "1                                                 []   \n",
              "2  ['https://kawanpuan.com/inilah-contoh-kekerasa...   \n",
              "3              ['https://tmblr.co/ZWPi9Sd6w8Ezya00']   \n",
              "4  ['https://www.updatebali.com/read/srikandi-pln...   \n",
              "\n",
              "                                              photos  replies_count  \\\n",
              "0  ['https://pbs.twimg.com/media/Fkxub-CacAUA0zM....            1.0   \n",
              "1                                                 []            0.0   \n",
              "2                                                 []            0.0   \n",
              "3                                                 []            0.0   \n",
              "4                                                 []            0.0   \n",
              "\n",
              "   retweets_count  likes_count  \\\n",
              "0             1.0          2.0   \n",
              "1             0.0          0.0   \n",
              "2             0.0          0.0   \n",
              "3             0.0          0.0   \n",
              "4             0.0          0.0   \n",
              "\n",
              "                                            hashtags cashtags  \\\n",
              "0  ['plnuidbali', 'plnpeduli', 'tjslpln', 'hariib...       []   \n",
              "1                                                 []       []   \n",
              "2                                                 []       []   \n",
              "3                                                 []       []   \n",
              "4                                                 []       []   \n",
              "\n",
              "                                                link retweet quote_url  video  \\\n",
              "0  https://twitter.com/plnuidbali/status/16067805...   False       NaN    1.0   \n",
              "1  https://twitter.com/vvellvvet/status/160670848...   False       NaN    0.0   \n",
              "2  https://twitter.com/KawanPuan/status/160657292...   False       NaN    0.0   \n",
              "3  https://twitter.com/Koramil_Imogiri/status/160...   False       NaN    0.0   \n",
              "4  https://twitter.com/updatebalii/status/1606549...   False       NaN    0.0   \n",
              "\n",
              "                                         thumbnail  near  geo  source  \\\n",
              "0  https://pbs.twimg.com/media/Fkxub-CacAUA0zM.jpg   NaN  NaN     NaN   \n",
              "1                                              NaN   NaN  NaN     NaN   \n",
              "2                                              NaN   NaN  NaN     NaN   \n",
              "3                                              NaN   NaN  NaN     NaN   \n",
              "4                                              NaN   NaN  NaN     NaN   \n",
              "\n",
              "   user_rt_id  user_rt  retweet_id  \\\n",
              "0         NaN      NaN         NaN   \n",
              "1         NaN      NaN         NaN   \n",
              "2         NaN      NaN         NaN   \n",
              "3         NaN      NaN         NaN   \n",
              "4         NaN      NaN         NaN   \n",
              "\n",
              "                                            reply_to  retweet_date  translate  \\\n",
              "0                                                 []           NaN        NaN   \n",
              "1  [{'screen_name': '18fesss', 'name': 'CEK RULES...           NaN        NaN   \n",
              "2                                                 []           NaN        NaN   \n",
              "3                                                 []           NaN        NaN   \n",
              "4                                                 []           NaN        NaN   \n",
              "\n",
              "   trans_src  trans_dest  \n",
              "0        NaN         NaN  \n",
              "1        NaN         NaN  \n",
              "2        NaN         NaN  \n",
              "3        NaN         NaN  \n",
              "4        NaN         NaN  "
            ],
            "text/html": [
              "\n",
              "  <div id=\"df-a409adcd-5215-4d7e-9db8-1c4850af1ec0\">\n",
              "    <div class=\"colab-df-container\">\n",
              "      <div>\n",
              "<style scoped>\n",
              "    .dataframe tbody tr th:only-of-type {\n",
              "        vertical-align: middle;\n",
              "    }\n",
              "\n",
              "    .dataframe tbody tr th {\n",
              "        vertical-align: top;\n",
              "    }\n",
              "\n",
              "    .dataframe thead th {\n",
              "        text-align: right;\n",
              "    }\n",
              "</style>\n",
              "<table border=\"1\" class=\"dataframe\">\n",
              "  <thead>\n",
              "    <tr style=\"text-align: right;\">\n",
              "      <th></th>\n",
              "      <th>id</th>\n",
              "      <th>conversation_id</th>\n",
              "      <th>created_at</th>\n",
              "      <th>date</th>\n",
              "      <th>time</th>\n",
              "      <th>timezone</th>\n",
              "      <th>user_id</th>\n",
              "      <th>username</th>\n",
              "      <th>name</th>\n",
              "      <th>place</th>\n",
              "      <th>tweet</th>\n",
              "      <th>language</th>\n",
              "      <th>mentions</th>\n",
              "      <th>urls</th>\n",
              "      <th>photos</th>\n",
              "      <th>replies_count</th>\n",
              "      <th>retweets_count</th>\n",
              "      <th>likes_count</th>\n",
              "      <th>hashtags</th>\n",
              "      <th>cashtags</th>\n",
              "      <th>link</th>\n",
              "      <th>retweet</th>\n",
              "      <th>quote_url</th>\n",
              "      <th>video</th>\n",
              "      <th>thumbnail</th>\n",
              "      <th>near</th>\n",
              "      <th>geo</th>\n",
              "      <th>source</th>\n",
              "      <th>user_rt_id</th>\n",
              "      <th>user_rt</th>\n",
              "      <th>retweet_id</th>\n",
              "      <th>reply_to</th>\n",
              "      <th>retweet_date</th>\n",
              "      <th>translate</th>\n",
              "      <th>trans_src</th>\n",
              "      <th>trans_dest</th>\n",
              "    </tr>\n",
              "  </thead>\n",
              "  <tbody>\n",
              "    <tr>\n",
              "      <th>0</th>\n",
              "      <td>1,60678E+18</td>\n",
              "      <td>1,60678E+18</td>\n",
              "      <td>2022-12-24 22:35:21 UTC</td>\n",
              "      <td>24/12/2022</td>\n",
              "      <td>22:35:21</td>\n",
              "      <td>0</td>\n",
              "      <td>2601743988</td>\n",
              "      <td>plnuidbali</td>\n",
              "      <td>PLN Unit Induk Distribusi Bali</td>\n",
              "      <td>NaN</td>\n",
              "      <td>Kerap termarjinalisasi, perempuan – perempuan ...</td>\n",
              "      <td>in</td>\n",
              "      <td>[]</td>\n",
              "      <td>[]</td>\n",
              "      <td>['https://pbs.twimg.com/media/Fkxub-CacAUA0zM....</td>\n",
              "      <td>1.0</td>\n",
              "      <td>1.0</td>\n",
              "      <td>2.0</td>\n",
              "      <td>['plnuidbali', 'plnpeduli', 'tjslpln', 'hariib...</td>\n",
              "      <td>[]</td>\n",
              "      <td>https://twitter.com/plnuidbali/status/16067805...</td>\n",
              "      <td>False</td>\n",
              "      <td>NaN</td>\n",
              "      <td>1.0</td>\n",
              "      <td>https://pbs.twimg.com/media/Fkxub-CacAUA0zM.jpg</td>\n",
              "      <td>NaN</td>\n",
              "      <td>NaN</td>\n",
              "      <td>NaN</td>\n",
              "      <td>NaN</td>\n",
              "      <td>NaN</td>\n",
              "      <td>NaN</td>\n",
              "      <td>[]</td>\n",
              "      <td>NaN</td>\n",
              "      <td>NaN</td>\n",
              "      <td>NaN</td>\n",
              "      <td>NaN</td>\n",
              "    </tr>\n",
              "    <tr>\n",
              "      <th>1</th>\n",
              "      <td>1,60671E+18</td>\n",
              "      <td>1,60667E+18</td>\n",
              "      <td>2022-12-24 17:48:48 UTC</td>\n",
              "      <td>24/12/2022</td>\n",
              "      <td>17:48:48</td>\n",
              "      <td>0</td>\n",
              "      <td>1,60144E+18</td>\n",
              "      <td>vvellvvet</td>\n",
              "      <td>Velvet</td>\n",
              "      <td>NaN</td>\n",
              "      <td>@18fesss Tindakan semacam ini dapat dilaporkan...</td>\n",
              "      <td>in</td>\n",
              "      <td>[]</td>\n",
              "      <td>[]</td>\n",
              "      <td>[]</td>\n",
              "      <td>0.0</td>\n",
              "      <td>0.0</td>\n",
              "      <td>0.0</td>\n",
              "      <td>[]</td>\n",
              "      <td>[]</td>\n",
              "      <td>https://twitter.com/vvellvvet/status/160670848...</td>\n",
              "      <td>False</td>\n",
              "      <td>NaN</td>\n",
              "      <td>0.0</td>\n",
              "      <td>NaN</td>\n",
              "      <td>NaN</td>\n",
              "      <td>NaN</td>\n",
              "      <td>NaN</td>\n",
              "      <td>NaN</td>\n",
              "      <td>NaN</td>\n",
              "      <td>NaN</td>\n",
              "      <td>[{'screen_name': '18fesss', 'name': 'CEK RULES...</td>\n",
              "      <td>NaN</td>\n",
              "      <td>NaN</td>\n",
              "      <td>NaN</td>\n",
              "      <td>NaN</td>\n",
              "    </tr>\n",
              "    <tr>\n",
              "      <th>2</th>\n",
              "      <td>1,60657E+18</td>\n",
              "      <td>1,60657E+18</td>\n",
              "      <td>2022-12-24 08:50:09 UTC</td>\n",
              "      <td>24/12/2022</td>\n",
              "      <td>08:50:09</td>\n",
              "      <td>0</td>\n",
              "      <td>1,47689E+18</td>\n",
              "      <td>kawanpuan</td>\n",
              "      <td>Kawanpuan.com</td>\n",
              "      <td>NaN</td>\n",
              "      <td>Inilah Contoh Kekerasan Dalam Rumah Tangga  ht...</td>\n",
              "      <td>in</td>\n",
              "      <td>[]</td>\n",
              "      <td>['https://kawanpuan.com/inilah-contoh-kekerasa...</td>\n",
              "      <td>[]</td>\n",
              "      <td>0.0</td>\n",
              "      <td>0.0</td>\n",
              "      <td>0.0</td>\n",
              "      <td>[]</td>\n",
              "      <td>[]</td>\n",
              "      <td>https://twitter.com/KawanPuan/status/160657292...</td>\n",
              "      <td>False</td>\n",
              "      <td>NaN</td>\n",
              "      <td>0.0</td>\n",
              "      <td>NaN</td>\n",
              "      <td>NaN</td>\n",
              "      <td>NaN</td>\n",
              "      <td>NaN</td>\n",
              "      <td>NaN</td>\n",
              "      <td>NaN</td>\n",
              "      <td>NaN</td>\n",
              "      <td>[]</td>\n",
              "      <td>NaN</td>\n",
              "      <td>NaN</td>\n",
              "      <td>NaN</td>\n",
              "      <td>NaN</td>\n",
              "    </tr>\n",
              "    <tr>\n",
              "      <th>3</th>\n",
              "      <td>1,60656E+18</td>\n",
              "      <td>1,60656E+18</td>\n",
              "      <td>2022-12-24 08:08:40 UTC</td>\n",
              "      <td>24/12/2022</td>\n",
              "      <td>08:08:40</td>\n",
              "      <td>0</td>\n",
              "      <td>1,49199E+18</td>\n",
              "      <td>koramil_imogiri</td>\n",
              "      <td>Koramil10imogirireports</td>\n",
              "      <td>NaN</td>\n",
              "      <td>Sertu Iswanto babinsa kalurahan Srihatjo bersa...</td>\n",
              "      <td>in</td>\n",
              "      <td>[]</td>\n",
              "      <td>['https://tmblr.co/ZWPi9Sd6w8Ezya00']</td>\n",
              "      <td>[]</td>\n",
              "      <td>0.0</td>\n",
              "      <td>0.0</td>\n",
              "      <td>0.0</td>\n",
              "      <td>[]</td>\n",
              "      <td>[]</td>\n",
              "      <td>https://twitter.com/Koramil_Imogiri/status/160...</td>\n",
              "      <td>False</td>\n",
              "      <td>NaN</td>\n",
              "      <td>0.0</td>\n",
              "      <td>NaN</td>\n",
              "      <td>NaN</td>\n",
              "      <td>NaN</td>\n",
              "      <td>NaN</td>\n",
              "      <td>NaN</td>\n",
              "      <td>NaN</td>\n",
              "      <td>NaN</td>\n",
              "      <td>[]</td>\n",
              "      <td>NaN</td>\n",
              "      <td>NaN</td>\n",
              "      <td>NaN</td>\n",
              "      <td>NaN</td>\n",
              "    </tr>\n",
              "    <tr>\n",
              "      <th>4</th>\n",
              "      <td>1,60655E+18</td>\n",
              "      <td>1,60655E+18</td>\n",
              "      <td>2022-12-24 07:16:20 UTC</td>\n",
              "      <td>24/12/2022</td>\n",
              "      <td>07:16:20</td>\n",
              "      <td>0</td>\n",
              "      <td>1,2933E+18</td>\n",
              "      <td>updatebalii</td>\n",
              "      <td>UPDATEBALI.com</td>\n",
              "      <td>NaN</td>\n",
              "      <td>Kerap termarjinalisasi, perempuan – perempuan ...</td>\n",
              "      <td>in</td>\n",
              "      <td>[]</td>\n",
              "      <td>['https://www.updatebali.com/read/srikandi-pln...</td>\n",
              "      <td>[]</td>\n",
              "      <td>0.0</td>\n",
              "      <td>0.0</td>\n",
              "      <td>0.0</td>\n",
              "      <td>[]</td>\n",
              "      <td>[]</td>\n",
              "      <td>https://twitter.com/updatebalii/status/1606549...</td>\n",
              "      <td>False</td>\n",
              "      <td>NaN</td>\n",
              "      <td>0.0</td>\n",
              "      <td>NaN</td>\n",
              "      <td>NaN</td>\n",
              "      <td>NaN</td>\n",
              "      <td>NaN</td>\n",
              "      <td>NaN</td>\n",
              "      <td>NaN</td>\n",
              "      <td>NaN</td>\n",
              "      <td>[]</td>\n",
              "      <td>NaN</td>\n",
              "      <td>NaN</td>\n",
              "      <td>NaN</td>\n",
              "      <td>NaN</td>\n",
              "    </tr>\n",
              "  </tbody>\n",
              "</table>\n",
              "</div>\n",
              "      <button class=\"colab-df-convert\" onclick=\"convertToInteractive('df-a409adcd-5215-4d7e-9db8-1c4850af1ec0')\"\n",
              "              title=\"Convert this dataframe to an interactive table.\"\n",
              "              style=\"display:none;\">\n",
              "        \n",
              "  <svg xmlns=\"http://www.w3.org/2000/svg\" height=\"24px\"viewBox=\"0 0 24 24\"\n",
              "       width=\"24px\">\n",
              "    <path d=\"M0 0h24v24H0V0z\" fill=\"none\"/>\n",
              "    <path d=\"M18.56 5.44l.94 2.06.94-2.06 2.06-.94-2.06-.94-.94-2.06-.94 2.06-2.06.94zm-11 1L8.5 8.5l.94-2.06 2.06-.94-2.06-.94L8.5 2.5l-.94 2.06-2.06.94zm10 10l.94 2.06.94-2.06 2.06-.94-2.06-.94-.94-2.06-.94 2.06-2.06.94z\"/><path d=\"M17.41 7.96l-1.37-1.37c-.4-.4-.92-.59-1.43-.59-.52 0-1.04.2-1.43.59L10.3 9.45l-7.72 7.72c-.78.78-.78 2.05 0 2.83L4 21.41c.39.39.9.59 1.41.59.51 0 1.02-.2 1.41-.59l7.78-7.78 2.81-2.81c.8-.78.8-2.07 0-2.86zM5.41 20L4 18.59l7.72-7.72 1.47 1.35L5.41 20z\"/>\n",
              "  </svg>\n",
              "      </button>\n",
              "      \n",
              "  <style>\n",
              "    .colab-df-container {\n",
              "      display:flex;\n",
              "      flex-wrap:wrap;\n",
              "      gap: 12px;\n",
              "    }\n",
              "\n",
              "    .colab-df-convert {\n",
              "      background-color: #E8F0FE;\n",
              "      border: none;\n",
              "      border-radius: 50%;\n",
              "      cursor: pointer;\n",
              "      display: none;\n",
              "      fill: #1967D2;\n",
              "      height: 32px;\n",
              "      padding: 0 0 0 0;\n",
              "      width: 32px;\n",
              "    }\n",
              "\n",
              "    .colab-df-convert:hover {\n",
              "      background-color: #E2EBFA;\n",
              "      box-shadow: 0px 1px 2px rgba(60, 64, 67, 0.3), 0px 1px 3px 1px rgba(60, 64, 67, 0.15);\n",
              "      fill: #174EA6;\n",
              "    }\n",
              "\n",
              "    [theme=dark] .colab-df-convert {\n",
              "      background-color: #3B4455;\n",
              "      fill: #D2E3FC;\n",
              "    }\n",
              "\n",
              "    [theme=dark] .colab-df-convert:hover {\n",
              "      background-color: #434B5C;\n",
              "      box-shadow: 0px 1px 3px 1px rgba(0, 0, 0, 0.15);\n",
              "      filter: drop-shadow(0px 1px 2px rgba(0, 0, 0, 0.3));\n",
              "      fill: #FFFFFF;\n",
              "    }\n",
              "  </style>\n",
              "\n",
              "      <script>\n",
              "        const buttonEl =\n",
              "          document.querySelector('#df-a409adcd-5215-4d7e-9db8-1c4850af1ec0 button.colab-df-convert');\n",
              "        buttonEl.style.display =\n",
              "          google.colab.kernel.accessAllowed ? 'block' : 'none';\n",
              "\n",
              "        async function convertToInteractive(key) {\n",
              "          const element = document.querySelector('#df-a409adcd-5215-4d7e-9db8-1c4850af1ec0');\n",
              "          const dataTable =\n",
              "            await google.colab.kernel.invokeFunction('convertToInteractive',\n",
              "                                                     [key], {});\n",
              "          if (!dataTable) return;\n",
              "\n",
              "          const docLinkHtml = 'Like what you see? Visit the ' +\n",
              "            '<a target=\"_blank\" href=https://colab.research.google.com/notebooks/data_table.ipynb>data table notebook</a>'\n",
              "            + ' to learn more about interactive tables.';\n",
              "          element.innerHTML = '';\n",
              "          dataTable['output_type'] = 'display_data';\n",
              "          await google.colab.output.renderOutput(dataTable, element);\n",
              "          const docLink = document.createElement('div');\n",
              "          docLink.innerHTML = docLinkHtml;\n",
              "          element.appendChild(docLink);\n",
              "        }\n",
              "      </script>\n",
              "    </div>\n",
              "  </div>\n",
              "  "
            ]
          },
          "metadata": {},
          "execution_count": 15
        }
      ]
    },
    {
      "cell_type": "code",
      "source": [
        "# some functions for preprocessing text\n",
        "\n",
        "def cleaningText(text):\n",
        "   text = re.sub(r'@[A-Za-z0-9]+', '',text) # remove mentions\n",
        "   text = re.sub(r'#[A-Za-z0-9]+', '',text) # remove hashtag\n",
        "   text = re.sub(r'RT[\\s]', '',text) # remove RT\n",
        "   text = re.sub(r\"http\\S+\", '',text) # remove link\n",
        "   text = re.sub(r'[0-9]', '',text) # remove numbers\n",
        "\n",
        "   text = text.replace('\\n', '') # replace new line into space\n",
        "   text = text.translate(str.maketrans('', '' ,string.punctuation))# remove all punctuations\n",
        "   text = text.strip (' ') # remove characters space from both left and right text\n",
        "   return text\n",
        "   print(tweet.text)\n",
        "\n",
        "def casefoldingText(text): # converting all the character in a text into lower case\n",
        "    text = text.lower()\n",
        "    return text\n",
        "    print(tweet.text)\n",
        "\n",
        "def tokenizingText(text): # Tokenizing or splitting, text into alist of tokens\n",
        "    text = word_tokenizing(text)\n",
        "    return text\n",
        "    print(tweet.text)\n",
        "def filteringText(text): # Remove stopwors in a text\n",
        "    listStopwords = set(stopwords.words('indonesian'))\n",
        "    filtered = []\n",
        "    for txt in text:\n",
        "        if txt not in listStopwords:\n",
        "           filtered.append(txt)\n",
        "    text = filtered\n",
        "    return text\n",
        "    print(tweet.text)\n",
        "\n"
      ],
      "metadata": {
        "id": "v3PwjHrHyyAy"
      },
      "execution_count": null,
      "outputs": []
    },
    {
      "cell_type": "code",
      "source": [
        "pip install NLTK Downloader"
      ],
      "metadata": {
        "id": "0eQ8CoTKB2DE"
      },
      "execution_count": null,
      "outputs": []
    },
    {
      "cell_type": "code",
      "source": [
        "import nltk\n",
        "nltk.download('punkt')"
      ],
      "metadata": {
        "colab": {
          "base_uri": "https://localhost:8080/"
        },
        "id": "V2GCeouJCGM3",
        "outputId": "b2699757-1cda-4614-ded0-0663b27bc622"
      },
      "execution_count": null,
      "outputs": [
        {
          "output_type": "stream",
          "name": "stderr",
          "text": [
            "[nltk_data] Downloading package punkt to /root/nltk_data...\n",
            "[nltk_data]   Unzipping tokenizers/punkt.zip.\n"
          ]
        },
        {
          "output_type": "execute_result",
          "data": {
            "text/plain": [
              "True"
            ]
          },
          "metadata": {},
          "execution_count": 36
        }
      ]
    },
    {
      "cell_type": "code",
      "source": [
        "import nltk\n",
        "nltk.download('stopwords')"
      ],
      "metadata": {
        "colab": {
          "base_uri": "https://localhost:8080/"
        },
        "id": "mCQW4-SWCRjn",
        "outputId": "c0a6e6b8-3edd-4892-c0e0-1eeccb362089"
      },
      "execution_count": null,
      "outputs": [
        {
          "output_type": "stream",
          "name": "stderr",
          "text": [
            "[nltk_data] Downloading package stopwords to /root/nltk_data...\n",
            "[nltk_data]   Unzipping corpora/stopwords.zip.\n"
          ]
        },
        {
          "output_type": "execute_result",
          "data": {
            "text/plain": [
              "True"
            ]
          },
          "metadata": {},
          "execution_count": 37
        }
      ]
    }
  ]
}